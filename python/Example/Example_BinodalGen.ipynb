{
 "cells": [
  {
   "cell_type": "markdown",
   "metadata": {
    "pycharm": {
     "is_executing": false
    }
   },
   "source": [
    "# LASSI Quick Tutorial\n",
    " \n",
    " This is a quick tutorial on how to use the Python helper scripts to generate phase diagrams. The general flow is:\n",
    " 1. Have a (template) keyfile and energy files.\n",
    " 2. Declare an instance of LASSI.Sim_Setup module to run basic setup.\n",
    " 3. Setup the structure of the system you want to simulate.\n",
    " 3. Setup the concentrations and temperatures you want to sample.\n",
    " 4. Define MC steps you wish to run the simulations for.\n",
    " 5. Setup all the directories, and generate the keyfiles for each condition.\n",
    " 6. Run the simulations. (At PappuLab we have access to a private cluster so queue submission is very simple)\n",
    " 7. Declare an instance of LASSI.Analysis() to get ready for data analysis.\n",
    " 8. Use LASSI.Analysis() to collect all the data, process the data, and generate the order parameters for density inhomogeneity and percolation.\n",
    " 9. Plot contour maps."
   ]
  },
  {
   "cell_type": "code",
   "execution_count": null,
   "metadata": {},
   "outputs": [],
   "source": [
    "import LASSI as lassi #Importing the LASSI module\n",
    "import seaborn as sns #For prettier plots -- can remove if you don't care\n",
    "\"\"\"\n",
    "The following set of commands are how I view most plots and you should change things to suit your needs/monitor.\n",
    "\"\"\"\n",
    "%pylab inline         \n",
    "pylab.rcParams['figure.figsize']=(10,8)\n",
    "sns.set()\n",
    "sns.set_style(\"white\")\n",
    "sns.set_style(\"ticks\")\n",
    "sns.set_context('paper')\n",
    "pylab.rcParams['font.family']='STIXGeneral'\n",
    "pylab.rcParams['mathtext.fontset'] = 'stix'\n",
    "pylab.rcParams['xtick.labelsize'] = 24\n",
    "pylab.rcParams['ytick.labelsize'] = 24      "
   ]
  },
  {
   "cell_type": "markdown",
   "metadata": {},
   "source": [
    "### Note that there are, for every concentration of every system, two different types of simulations. One simulation is with the desired interactions that we want (WInt), and one is without *any* interactions (NoInt). NoInt runs are in effect *ideal molecule* runs where the prior for the radial distribution functions (RDFs) are sampled. For WInt runs, we start at an initial temperature and ramp up (or down if you want) to a pre-defined final temperature where you should make sure that each temperature cycle is long enough. There isn't a good obvious *a priori* way to know the correct number so trial runs might be necessary.\n",
    "\n",
    "#### The following is a simple example of a 2-component (*pseudo*-3-component with the solvent). The system contains a 1000 each of 2 chains with 5 monomers 3 lattice sites apart - an example of an implicit linker polymer. To generate the phase diagram, we sample the conc. vs. T. plane in a 35 x 35 regular grid, and produce contours of the relevnt order parameters."
   ]
  },
  {
   "cell_type": "code",
   "execution_count": 204,
   "metadata": {
    "pycharm": {
     "is_executing": false
    }
   },
   "outputs": [
    {
     "name": "stdout",
     "output_type": "stream",
     "text": [
      "Initialized a LASSI setup with the following structures:\n",
      "  BigEx:= Linker length 1.0 lattice units.\n",
      "Simulations shall be done in dir: /home/fdar/Work/LASSI/PythonCodes/BetaPrep/\n",
      "BigEx has energy files: Int:/home/fdar/Work/LASSI/PythonCodes/BetaPrep/energyInt.prm  NoInt:/home/fdar/Work/LASSI/PythonCodes/BetaPrep/energyNO.prm\n",
      "Wrote structures to file: BigEx_st.prm\n",
      "BigEx has structure file: BigEx_st.prm\n",
      "\n",
      "[ 31  34  37  40  43  46  50  54  59  64  69  75  81  88  95 103 111 121\n",
      " 131 141 153 166 179 194 210 227 246 266 288 312 338 366 396 428 464]\n",
      "\n",
      "[[1000, array([[0, 0, 3, 1],\n",
      "       [1, 0, 3, 0],\n",
      "       [1, 0, 3, 2],\n",
      "       [2, 0, 3, 1],\n",
      "       [2, 0, 3, 3],\n",
      "       [3, 0, 3, 2],\n",
      "       [3, 0, 3, 4],\n",
      "       [4, 0, 3, 3]])], [1000, array([[0, 1, 3, 1],\n",
      "       [1, 1, 3, 0],\n",
      "       [1, 1, 3, 2],\n",
      "       [2, 1, 3, 1],\n",
      "       [2, 1, 3, 3],\n",
      "       [3, 1, 3, 2],\n",
      "       [3, 1, 3, 4],\n",
      "       [4, 1, 3, 3]])]]\n"
     ]
    }
   ],
   "source": [
    "reload(lassi)\n",
    "mySysName = 'BigEx'; #My name for the example system\n",
    "# LASSI.Sim_Setup() expects, in order, an array of system names, an array of linker lengths, \n",
    "# and a (template) keyfile\n",
    "mySetup = lassi.Sim_Setup([mySysName], ['1.0'], 'paramFast.key') \n",
    "# paramFast does not output anything other than the cluster info and pdfs\n",
    "# Use param.key if you want to also store trajectories, acceptance ratios, and energies\n",
    "\n",
    "#Path where you want all the simulations, and directory trees.\n",
    "mySetup.Set_SimulationPath('/home/fdar/Work/LASSI/PythonCodes/BetaPrep/')\n",
    "\n",
    "\"\"\"\n",
    "The following three functions are used to generate qsub-like commands where we have\n",
    "'QSUB_COMMAND QSUB_QUEUE ${SysName}_${RunIt} ${PathToLASSI}'\n",
    "If you have a different way to submit jobs to a queue, make the appropriate changes to the LASSI module.\n",
    "NOTE: I am using shell=True with the subprocess module, so be careful with the next three functions!\n",
    "\"\"\"\n",
    "\n",
    "#The path to a working compiled LASSI executible\n",
    "mySetup.Set_PathToLASSI('/work/fdar/GIT_LASSI/GIT_Repos/LASSI_GIT/lassi')\n",
    "#The qsub command\n",
    "mySetup.Set_QSUB_Command('cs_edam')\n",
    "#The queues to run NoInt and WInt runs respectively.\n",
    "mySetup.Set_QSUB_Queues('LION','LION')\n",
    "\n",
    "# The two energy files for all systems. Can use mySetup.AddEnergyFileTo() later to have different files for\n",
    "# different systems\n",
    "mySetup.AddEnergyFiles_ForAll('energyNO.prm', 'energyInt.prm')\n",
    "\n",
    "\n",
    "mySetup.ResetStruc(mySysName) #Just an extra precaution\n",
    "#1000 chains with valency 5, and 3 lattice units between consecutive monomers\n",
    "mySetup.AddStruc_ImpLinear(mySysName, 1000, 5, 0, 3)\n",
    "#1000 chains with valency 5, and 3 lattice units between consecutive monomers of different species.\n",
    "mySetup.AddStruc_ImpLinear(mySysName, 1000, 5, 1, 3)\n",
    "mySetup.Write_StructureFileFor(mySysName,'BigEx_st.prm') #Writing the system out to a file\n",
    "# Calculating and setting the appropriate box sizes that correspond to Log10(concentrations) between -4. and -0.5\n",
    "# Furthermore, we have 35 boxes in between.\n",
    "boxSizeKW = {'low_con':-4.0, 'high_con':-0.5, 'tot_boxes' : 35}\n",
    "mySetup.SetBoxSizesFor(mySysName, **boxSizeKW)\n",
    "\n",
    "mySetup.SetMCSteps_ForAll(5e6, 1e9)#Setting the total number of Thermalization steps, and per-temperature MC steps\n",
    "# Calculating and setting run temperatures where T_init = 1.0, T_final = 2.0, with 35 steps in between.\n",
    "# Also, setting the thermalization temperature to 1000.0\n",
    "mySetup.SetTemperatures_ForAll(1.0, 2.0, 35, 1000.0)\n",
    "mySetup.SetBoxSizes_To(mySysName)\n",
    "\n",
    "#Just making sure that the overall setup is how we want it.\n",
    "\n",
    "\n",
    "print\n",
    "print(mySetup.SysInfo[mySysName]['Boxes'])\n",
    "print\n",
    "print mySetup.SysInfo[mySysName]['Structure']\n"
   ]
  },
  {
   "cell_type": "code",
   "execution_count": 205,
   "metadata": {},
   "outputs": [],
   "source": [
    "#Getting ready to submit runs!\n",
    "#mySetup.MakeDirs_For(mySysName) #Generate the NoInt and WInt directories for this system\n",
    "#mySetup.Write_ParamsFor(mySysName) #Write the correct keyfiles in the correct locations for each condition\n",
    "#mySetup.Reset_QSUB_Iter() #Internal iterator reset.\n",
    "#mySetup.SubmitWIntJobs_ToQueueFor(mySysName, 'LION') #Submitting WInt jobs\n",
    "#mySetup.SubmitNoIntJobs_ToQueueFor(mySysName, 'LION') #Submitting NoInt jobs"
   ]
  },
  {
   "cell_type": "code",
   "execution_count": 206,
   "metadata": {},
   "outputs": [],
   "source": [
    "myAnalysis = lassi.Analysis(mySetup) #Start an instance of Analysis()"
   ]
  },
  {
   "cell_type": "code",
   "execution_count": 207,
   "metadata": {},
   "outputs": [],
   "source": [
    "#Collect and save the pair distribution functions from the NoInt runs -- the prior for RDFs.\n",
    "myAnalysis.Save_NoIntPDF_For(mySysName) "
   ]
  },
  {
   "cell_type": "code",
   "execution_count": 208,
   "metadata": {},
   "outputs": [],
   "source": [
    "#Collect and save the pair distribution functions from the WInt runs.\n",
    "myAnalysis.Save_WIntPDF_For(mySysName)"
   ]
  },
  {
   "cell_type": "code",
   "execution_count": 209,
   "metadata": {},
   "outputs": [],
   "source": [
    "#Collect and save the cluster distributions from the WInt runs.\n",
    "myAnalysis.Save_WIntClus_For(mySysName)\n",
    "# NoInt runs don't have any sticker-sticker interactions so should not have clusters,\n",
    "# but if your system prior HAS such clusters, use the NoInt version of this function!"
   ]
  },
  {
   "cell_type": "code",
   "execution_count": 210,
   "metadata": {},
   "outputs": [],
   "source": [
    "#Using the collect PDFs, generate and save the RDFs.\n",
    "myAnalysis.Gen_pRDFs_For(mySysName)"
   ]
  },
  {
   "cell_type": "code",
   "execution_count": 211,
   "metadata": {},
   "outputs": [],
   "source": [
    "#Using the generated per component RDFs to generate the density order parameter.\n",
    "myAnalysis.Gen_RhoBar_For(mySysName)"
   ]
  },
  {
   "cell_type": "code",
   "execution_count": 212,
   "metadata": {},
   "outputs": [],
   "source": [
    "#Using the saved cluster distributions to generate the percolation order parameter.\n",
    "myAnalysis.Gen_PhiC_For(mySysName)"
   ]
  },
  {
   "cell_type": "code",
   "execution_count": 220,
   "metadata": {},
   "outputs": [
    {
     "name": "stdout",
     "output_type": "stream",
     "text": [
      "[[-1 -1]\n",
      " [ 0  0]\n",
      " [ 0  1]\n",
      " [ 1  1]]\n"
     ]
    }
   ],
   "source": [
    "#Checking to see all the different component combinations possible for the PDFs.\n",
    "print myAnalysis.SysInfo[mySysName]['Comp List']\n",
    "#We have that component 0: total g_of_r; 1: g_of_r_{00}; 2: g_of_r_{01}; 3: g_of_r{11}"
   ]
  },
  {
   "cell_type": "code",
   "execution_count": 214,
   "metadata": {},
   "outputs": [],
   "source": [
    "#Using the saved order parameters to internally save a plottable array.\n",
    "myAnalysis.Store_OrderParamInterp_For(mySysName,of_comp=0,inter_points=50,temp_scale=1.0)"
   ]
  },
  {
   "cell_type": "code",
   "execution_count": 221,
   "metadata": {},
   "outputs": [
    {
     "data": {
      "image/png": "[encoded data removed]",
      "text/plain": [
       "<Figure size 576x576 with 1 Axes>"
      ]
     },
     "metadata": {},
     "output_type": "display_data"
    }
   ],
   "source": [
    "#Plotting the binodal, and the peroclation line\n",
    "myFig = plt.figure(figsize=[8,8])\n",
    "myAx  = myFig.subplots(1,1, sharey=True)\n",
    "rho_cut = 0.025; #The cut-off for the binodal\n",
    "phi_cut = 0.5    #The cut-off for the perclation threshold.\n",
    "xgrid, ygrid, OrGrid, PhiGrid = myAnalysis.SysInfo[mySysName]['Order Params']\n",
    "CS4  = myAx.contour(xgrid, ygrid, OrGrid, rho_cut, colors='blue', linewidths=2.5, alpha=0.9)\n",
    "CS4.collections[0].set_label(r'Only Heterotypic')\n",
    "CS4  = myAx.contour(xgrid, ygrid, PhiGrid, phi_cut, colors='blue', linewidths=2.5, alpha=0.9, linestyles='dotted')\n",
    "myAx.set_xlim(-3.5,-1.5)\n",
    "myAx.set_ylim(1.0,1.5)\n",
    "plt.legend(prop={'size':25})\n",
    "plt.show()"
   ]
  },
  {
   "cell_type": "code",
   "execution_count": null,
   "metadata": {},
   "outputs": [],
   "source": []
  }
 ],
 "metadata": {
  "kernelspec": {
   "display_name": "Python 2",
   "language": "python",
   "name": "python2"
  },
  "language_info": {
   "codemirror_mode": {
    "name": "ipython",
    "version": 2
   },
   "file_extension": ".py",
   "mimetype": "text/x-python",
   "name": "python",
   "nbconvert_exporter": "python",
   "pygments_lexer": "ipython2",
   "version": "2.7.15"
  },
  "pycharm": {
   "stem_cell": {
    "cell_type": "raw",
    "metadata": {
     "collapsed": false
    },
    "source": []
   }
  }
 },
 "nbformat": 4,
 "nbformat_minor": 2
}
